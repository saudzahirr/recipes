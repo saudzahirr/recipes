{
 "cells": [
  {
   "cell_type": "code",
   "execution_count": 3,
   "metadata": {
    "id": "ZD0I2p4ruF4A"
   },
   "outputs": [],
   "source": [
    "import re"
   ]
  },
  {
   "cell_type": "code",
   "execution_count": 4,
   "metadata": {
    "id": "yCxScMswuInz"
   },
   "outputs": [],
   "source": [
    "file_path = \"Recipes/recipes_data.txt\""
   ]
  },
  {
   "cell_type": "code",
   "execution_count": 36,
   "metadata": {
    "id": "-grMb6mFbofP"
   },
   "outputs": [],
   "source": [
    "class Recipes:\n",
    "    def __init__(self, recipes):\n",
    "        self.recipes = recipes\n",
    "\n",
    "    def get_recipe_names(self):\n",
    "        \"\"\"\n",
    "        This function returns a\n",
    "        list of names of the dishes.\n",
    "        \"\"\"\n",
    "        \n",
    "        with open(self.recipes, 'r') as f:\n",
    "             content = f.read()\n",
    "\n",
    "        self.content = content\n",
    "        names = []\n",
    "        for name in re.findall(r\"\\w+\\s*\\w+:\", content):\n",
    "            name = re.sub(\":\", \"\", name)\n",
    "            names.append(name)\n",
    "\n",
    "        self.names = names\n",
    "        return  self.names\n",
    "\n",
    "\n",
    "\n",
    "    def get_ingredients(self):\n",
    "        \"\"\"\n",
    "        This function returns a dictionary with\n",
    "        names of dishes as keys and a subdictionary\n",
    "        with its keys as ingredient names and its\n",
    "        value as a list of possible weights.\n",
    "        \"\"\"\n",
    "        \n",
    "        ingredients = {}\n",
    "        for name in self.names:\n",
    "            ingredients[name] = {}\n",
    "            pattern = re.compile(f\"{name}:\\n[-]+\\n(.*?)\\n[-]+\", re.DOTALL)\n",
    "            for text in re.findall(pattern, self.content):\n",
    "                for string in re.findall(r\"^(?!-).*$\", text, re.MULTILINE):\n",
    "                    for ingredient in re.findall(r\"(.*?)\\s*=\", string, re.DOTALL):\n",
    "                        ingredients[name][ingredient] = re.findall(r\"\\d+%*.*?\\s*\\w*.*?\", string, re.DOTALL)\n",
    "\n",
    "        self.ingredients = ingredients\n",
    "        return self.ingredients\n",
    "\n",
    "\n",
    "\n",
    "    def write_recipes(self, serial_title = \"Combinations\", separator = \"-\", text_position = \"center\"):\n",
    "        \n",
    "        path = \"Recipes/\"\n",
    "        for name in self.names:\n",
    "            file_name = path + name + str(\"_recipes.txt\")\n",
    "            ingredients = self.ingredients[name]\n",
    "            with open(file_name, 'w') as f:\n",
    "                headers = [serial_title]\n",
    "                for ingredient in ingredients.keys():\n",
    "                    headers.append(ingredient)\n",
    "                \n",
    "                # Set the cell width size.\n",
    "                if len(serial_title) < 5:\n",
    "                    offset  = 15\n",
    "                else:\n",
    "                    offset = 4\n",
    "                    \n",
    "                max_cell_length = len(headers[0]) + offset\n",
    "                number_of_cells = len(headers)\n",
    "\n",
    "                for a in range(len(headers)):\n",
    "                    header = headers[a]\n",
    "                    \n",
    "                    # Number of white spaces in a cell.\n",
    "                    spacing = max_cell_length - len(header)\n",
    "\n",
    "                    if a == 0:\n",
    "                        # Filling the first cell.\n",
    "                        title = \"|\" + self.get_aligned_text(header, spacing, text_position) + \"|\"\n",
    "                        f.write(title)\n",
    "                    else:\n",
    "                        title = self.get_aligned_text(header, spacing, text_position) + \"|\"\n",
    "                        f.write(title)\n",
    "\n",
    "                f.write(\"\\n\")\n",
    "                f.write(self.get_separators(max_cell_length, number_of_cells, separator))\n",
    "                f.write(\"\\n\")\n",
    "                f.write(self.get_combination(ingredients, max_cell_length, number_of_cells, text_position))\n",
    "                \n",
    "                # Writing ending line of table.\n",
    "                f.write(\"\\n\")\n",
    "                f.write(self.get_separators(max_cell_length, number_of_cells, separator, add_bar = False))\n",
    "                # f.write(\"\\n\")\n",
    "                # f.write(self.get_separators(max_cell_length, number_of_cells, separator = \"_\", add_bar = True))\n",
    "\n",
    "\n",
    "\n",
    "    def get_combination(self, ingredients, max_cell_length, number_of_cells, text_position):\n",
    "        \"\"\"\n",
    "        This function returns the different\n",
    "        possible combinations of ingredients\n",
    "        for each recipe.\n",
    "        \"\"\"\n",
    "        keys = list(ingredients.keys())\n",
    "\n",
    "        # Calculating the number of rows (or number of possible combinations).\n",
    "        N = 1\n",
    "        for key in keys:\n",
    "            N *= len(ingredients[key])\n",
    "\n",
    "        options = [ingredients[k] for k in keys]\n",
    "        k = len(keys)\n",
    "        indices = [0] * k\n",
    "        combinations = []\n",
    "\n",
    "        while True:\n",
    "            for i in range(k):\n",
    "                ingredient = keys[i]\n",
    "                option_index = indices[i]\n",
    "                combinations.append(options[i][option_index])\n",
    "\n",
    "\n",
    "            j = k - 1\n",
    "            while j >= 0:\n",
    "                indices[j] += 1\n",
    "                if indices[j] == len(options[j]):\n",
    "                    indices[j] = 0\n",
    "                    j -= 1\n",
    "                    \n",
    "                else:\n",
    "                    break\n",
    "\n",
    "            if j < 0:\n",
    "                break\n",
    "        \n",
    "        # Breaking a combinations list into chunks of size n.\n",
    "        n = number_of_cells - 1\n",
    "        combinations = [combinations[i * n:(i + 1) * n] for i in range((len(combinations) + n - 1) // n )]\n",
    "\n",
    "\n",
    "        combination_text = \"\"\n",
    "\n",
    "        for n, combination in enumerate(combinations, start = 1):\n",
    "            combination.insert(0, str(n))\n",
    "            for i in range(len(combination)):\n",
    "                string = combination[i]\n",
    "                spacing = max_cell_length - len(string)\n",
    "\n",
    "                if i == 0:\n",
    "                    # Filling the first cell.\n",
    "                    combination_text += \"|\" + self.get_aligned_text(string, spacing, text_position) + \"|\"\n",
    "                else:\n",
    "                    combination_text += self.get_aligned_text(string, spacing, text_position) + \"|\"\n",
    "\n",
    "            # Condition for adding a newline untill the last entry.\n",
    "            if int(n) < N:\n",
    "                combination_text += \"\\n\"\n",
    "\n",
    "                \n",
    "        # combination_text = \"\"\n",
    "        # separator_line = \"|\"\n",
    "        # for n in range(1, N + 1):\n",
    "        #     n = str(n)\n",
    "        #     spacing = max_cell_length - len(n)\n",
    "        #     combination_text += separator_line + self.get_aligned_text(n, spacing, text_position) + \"|\"\n",
    "        #     if int(n) < N:\n",
    "        #        combination_text += \"\\n\"\n",
    "\n",
    "        return combination_text\n",
    "\n",
    "\n",
    "\n",
    "\n",
    "    def get_aligned_text(self, text, spacing, text_position = \"center\"):\n",
    "        \"\"\"\n",
    "        This function sets the alignment\n",
    "        of the text and returns aligned text.\n",
    "        \"\"\"\n",
    "        \n",
    "        if text_position == \"left\":\n",
    "            aligned_text = text + \" \" * spacing\n",
    "            \n",
    "        elif text_position == \"center\":\n",
    "            # This is not working. Using f-string method to align at center.\n",
    "            # aligned_text = \" \" * int(spacing/2) + text + \" \" * int(spacing/2)\n",
    "            \n",
    "            d = spacing + len(text)\n",
    "            aligned_text = f\"{text : ^{d}}\"\n",
    "            \n",
    "        elif text_position == \"right\":\n",
    "            aligned_text = \" \" * spacing + text\n",
    "            \n",
    "        else:\n",
    "            print(\"Enter the correct alignment.\")\n",
    "\n",
    "        return aligned_text\n",
    "\n",
    "\n",
    "\n",
    "\n",
    "    def get_separators(self, max_cell_length, number_of_cells, separator = \"-\", add_bar = True):\n",
    "        \"\"\"\n",
    "        This function returns a separator line\n",
    "        (a separation between headers and table).\n",
    "        \"\"\"\n",
    "        \n",
    "        if add_bar:\n",
    "            separator_line = \"|\"\n",
    "            separators = separator * max_cell_length\n",
    "            for i in range(number_of_cells):\n",
    "                separator_line += separators + \"|\"\n",
    "                \n",
    "        else:\n",
    "            # separator_line = separator * (max_cell_length + 2) * (number_of_cells - 1)\n",
    "            # Endline.\n",
    "            separator_line = \"-\"\n",
    "            separators = separator * (max_cell_length + 1)\n",
    "            for i in range(number_of_cells):\n",
    "                separator_line += separators\n",
    "\n",
    "        return separator_line"
   ]
  },
  {
   "cell_type": "code",
   "execution_count": 37,
   "metadata": {
    "colab": {
     "base_uri": "https://localhost:8080/"
    },
    "id": "4URkKhZF0jDG",
    "outputId": "1cddced4-a47b-48cd-ad82-061c8770caf2"
   },
   "outputs": [],
   "source": [
    "recipes = Recipes(file_path)"
   ]
  },
  {
   "cell_type": "code",
   "execution_count": 38,
   "metadata": {},
   "outputs": [
    {
     "data": {
      "text/plain": [
       "['Chocolate', 'Ice Cream', 'Kheer', 'Halwa']"
      ]
     },
     "execution_count": 38,
     "metadata": {},
     "output_type": "execute_result"
    }
   ],
   "source": [
    "recipes.get_recipe_names()"
   ]
  },
  {
   "cell_type": "code",
   "execution_count": 39,
   "metadata": {},
   "outputs": [
    {
     "data": {
      "text/plain": [
       "{'Chocolate': {'Sugar': ['2 spoons', '3 spoons', '5 spoons'],\n",
       "  'Milk': ['1% Fat', '5% Fat', '10% Fat'],\n",
       "  'Flour': ['5 gm', '10 gm']},\n",
       " 'Ice Cream': {'Milk': ['500 ml', '1 liter'],\n",
       "  'Sugar': ['100 gm', '200 gm', '300 gm'],\n",
       "  'Vanilla Extract': ['1 teaspoon', '2 teaspoons'],\n",
       "  'Whipping Cream': ['200 ml', '400 ml'],\n",
       "  'Egg Yolks': ['4', '6']},\n",
       " 'Kheer': {'Sugar': ['10 spoons', '20 spoons', '30 spoons'],\n",
       "  'Milk': ['5% Fat', '10% Fat'],\n",
       "  'Rice': ['500 gm', '600 gm'],\n",
       "  'Water': ['300 ml', '400 ml']},\n",
       " 'Halwa': {'Sugar': ['10 gm', '20 gm', '30 gm'],\n",
       "  'Milk': ['200 ml', '300 ml'],\n",
       "  'Carrot': ['500 gm', '600 gm', '800 gm']}}"
      ]
     },
     "execution_count": 39,
     "metadata": {},
     "output_type": "execute_result"
    }
   ],
   "source": [
    "recipes.get_ingredients()"
   ]
  },
  {
   "cell_type": "code",
   "execution_count": 40,
   "metadata": {
    "id": "kgLa3mKssE0B"
   },
   "outputs": [],
   "source": [
    "recipes.write_recipes(serial_title = \"N\", separator = \"-\", text_position = \"center\")"
   ]
  },
  {
   "cell_type": "code",
   "execution_count": null,
   "metadata": {},
   "outputs": [],
   "source": []
  }
 ],
 "metadata": {
  "colab": {
   "provenance": []
  },
  "kernelspec": {
   "display_name": "Python 3",
   "language": "python",
   "name": "python3"
  },
  "language_info": {
   "codemirror_mode": {
    "name": "ipython",
    "version": 3
   },
   "file_extension": ".py",
   "mimetype": "text/x-python",
   "name": "python",
   "nbconvert_exporter": "python",
   "pygments_lexer": "ipython3",
   "version": "3.9.9"
  }
 },
 "nbformat": 4,
 "nbformat_minor": 1
}
